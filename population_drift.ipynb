{
 "cells": [
  {
   "cell_type": "markdown",
   "metadata": {},
   "source": [
    "# Imports and Data Loading"
   ]
  },
  {
   "cell_type": "code",
   "execution_count": null,
   "metadata": {},
   "outputs": [],
   "source": [
    "%reload_ext autoreload\n",
    "%matplotlib inline \n",
    "import h5py\n",
    "import numpy as np\n",
    "import scipy \n",
    "import matplotlib.pyplot as plt\n",
    "import pandas as pd\n",
    "import os\n",
    "from mpl_toolkits.mplot3d import Axes3D\n",
    "from datetime import datetime"
   ]
  },
  {
   "cell_type": "code",
   "execution_count": null,
   "metadata": {},
   "outputs": [],
   "source": [
    "# Load data and display the sessions \n",
    "animal=\"FN\" # \"FN\" or \"WI\" \n",
    "data_file = f\"/Users/withercp/Documents/dev/brainhack/data/TH_task_{animal}_singleprobe_500ms.h5\"\n",
    "assert os.path.exists(data_file), \"File not found: {data_file}\".format(data_file=data_file)\n",
    "\n",
    "with h5py.File(data_file, 'r') as f:\n",
    "    sessions = list(f.keys())"
   ]
  },
  {
   "cell_type": "code",
   "execution_count": null,
   "metadata": {},
   "outputs": [],
   "source": [
    "i = 0\n",
    "\n",
    "# Load data for a particular session and view the format of the data\n",
    "session = sessions[i]\n",
    "# convert mm-dd-yyyy to mm/dd/yyyy\n",
    "date_str = session.replace('-', '/')\n",
    "\n",
    "with h5py.File(data_file, 'r') as f:\n",
    "    print(f[sessions[i]].keys())\n",
    "    epoc_np=np.array(f[sessions[i]]['epoch'])\n",
    "    rem_rec_np=np.array(f[sessions[i]]['rem_rec'])\n",
    "    trial_np=np.array(f[sessions[i]]['trial'])\n",
    "    binned_spike_np = np.array(f[sessions[i]]['binned_spike'])\n",
    "    meta = np.array(f[sessions[i]]['meta'])\n",
    "\n",
    "rem_rec_bin = np.array([1 if x == b'Remote' else 0 for x in rem_rec_np])\n",
    "\n",
    "block_num = 0\n",
    "block_nums = np.zeros(len(rem_rec_bin), dtype=int)  # Initialize array with zeros\n",
    "\n",
    "for i in range(1, len(rem_rec_bin)):\n",
    "    if rem_rec_bin[i] != rem_rec_bin[i-1]:  # If trial type changes\n",
    "        block_num += 1  # Increment block number\n",
    "    block_nums[i] = block_num  # Assign block number to current trial\n",
    "\n",
    "unique_blocks = np.unique(block_nums)"
   ]
  },
  {
   "cell_type": "code",
   "execution_count": null,
   "metadata": {},
   "outputs": [],
   "source": [
    "fig, ax = plt.subplots(figsize=(10,8))\n",
    "\n",
    "x = np.arange(binned_spike_np.shape[1])\n",
    "y = np.mean(binned_spike_np, axis=0)\n",
    "ax.scatter(\n",
    "    x,\n",
    "    y,\n",
    ")\n",
    "plt.show()"
   ]
  },
  {
   "cell_type": "code",
   "execution_count": null,
   "metadata": {},
   "outputs": [],
   "source": [
    "# # Get correct and incorrect trials per screen\n",
    "# df = pd.read_csv(f\"/Users/withercp/Documents/dev/brainhack/data/{animal}_TT_ALL_refined.csv\")\n",
    "# df = df[df['Date'] == date_str]\n",
    "# print(df.head())\n",
    "\n",
    "# screen_correct = np.zeros((4, df['TrialNum'].max()))\n",
    "# screen_correct[0, :] = df[\"Correct\"][::4]\n",
    "# screen_correct[1, :] = df[\"Correct\"][1::4]\n",
    "# screen_correct[2, :] = df[\"Correct\"][2::4]\n",
    "# screen_correct[3, :] = df[\"Correct\"][3::4]\n",
    "# screen_correct_drift = screen_correct[:, :-1]"
   ]
  },
  {
   "cell_type": "code",
   "execution_count": null,
   "metadata": {},
   "outputs": [],
   "source": [
    "scipy.stats.pearsonr(x,y)"
   ]
  },
  {
   "cell_type": "code",
   "execution_count": null,
   "metadata": {},
   "outputs": [],
   "source": [
    "# Only keep rows where in at least one bin, the neuron fired at least 500 times \n",
    "# (i.e. the neuron is not active in that bin)\n",
    "\n",
    "rows_to_keep = [] \n",
    "for i in unique_blocks:\n",
    "    for j in range(binned_spike_np.shape[0]):\n",
    "        if np.sum(binned_spike_np[j, block_nums == i]) >= 500:\n",
    "            rows_to_keep.append(j)\n",
    "\n",
    "rows_to_keep = np.unique(rows_to_keep)\n",
    "\n",
    "binned_spike_np = binned_spike_np[rows_to_keep, :]\n",
    "\n",
    "# Normalize binned spike data \n",
    "binned_spike_np_z = scipy.stats.zscore(binned_spike_np, axis=1)"
   ]
  },
  {
   "cell_type": "markdown",
   "metadata": {},
   "source": [
    "# Classifier"
   ]
  },
  {
   "cell_type": "code",
   "execution_count": null,
   "metadata": {},
   "outputs": [],
   "source": [
    "from sklearn.model_selection import train_test_split\n",
    "from sklearn.metrics import accuracy_score\n",
    "from sklearn.linear_model import LogisticRegression\n",
    "\n",
    "# Simple logistic regression classifier to predict behavior (classification) from low dimensional data (data)\n",
    "def logistic_regression_classifier(data, classification):\n",
    "    # Split the data into training and testing sets\n",
    "    X_train, X_test, y_train, y_test = train_test_split(data, classification, test_size=0.2, random_state=42)\n",
    "\n",
    "    # Fit the model\n",
    "    model = LogisticRegression()\n",
    "    model.fit(X_train, y_train)\n",
    "\n",
    "    # Make predictions\n",
    "    y_pred = model.predict(X_test)\n",
    "\n",
    "    # Calculate the accuracy\n",
    "    accuracy = accuracy_score(y_test, y_pred)\n",
    "    return accuracy"
   ]
  },
  {
   "cell_type": "markdown",
   "metadata": {},
   "source": [
    "# Tracking representations"
   ]
  },
  {
   "cell_type": "code",
   "execution_count": null,
   "metadata": {},
   "outputs": [],
   "source": [
    "epoc_np[:100]"
   ]
  }
 ],
 "metadata": {
  "kernelspec": {
   "display_name": "manifolds",
   "language": "python",
   "name": "python3"
  },
  "language_info": {
   "codemirror_mode": {
    "name": "ipython",
    "version": 3
   },
   "file_extension": ".py",
   "mimetype": "text/x-python",
   "name": "python",
   "nbconvert_exporter": "python",
   "pygments_lexer": "ipython3",
   "version": "3.10.13"
  }
 },
 "nbformat": 4,
 "nbformat_minor": 2
}
